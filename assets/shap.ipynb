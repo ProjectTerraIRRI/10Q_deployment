{
 "cells": [
  {
   "cell_type": "code",
   "execution_count": 1,
   "metadata": {
    "ExecuteTime": {
     "end_time": "2022-06-29T09:56:23.166049Z",
     "start_time": "2022-06-29T09:56:21.475960Z"
    }
   },
   "outputs": [
    {
     "name": "stdout",
     "output_type": "stream",
     "text": [
      "no display found. Using non-interactive Agg backend\n"
     ]
    }
   ],
   "source": [
    "import os\n",
    "import matplotlib as mpl\n",
    "if os.environ.get('DISPLAY','') == '':\n",
    "    print('no display found. Using non-interactive Agg backend')\n",
    "    mpl.use('Agg')\n",
    "from matplotlib.backends.backend_tkagg import (FigureCanvasTkAgg, \n",
    "NavigationToolbar2Tk)\n",
    "import matplotlib.pyplot as plt\n",
    "\n",
    "from tkinter import * \n",
    "from tkinter.messagebox import showerror\n",
    "from tkinter import ttk\n",
    "from tkinter import *\n",
    "from tkinter import filedialog\n",
    "\n",
    "import numpy as np\n",
    "import pandas as pd\n",
    "import pickle\n",
    "\n",
    "\n",
    "import warnings\n",
    "warnings.filterwarnings('ignore')\n",
    "warnings.simplefilter('ignore')"
   ]
  },
  {
   "cell_type": "markdown",
   "metadata": {},
   "source": [
    "# Models"
   ]
  },
  {
   "cell_type": "code",
   "execution_count": 2,
   "metadata": {
    "ExecuteTime": {
     "end_time": "2022-06-29T09:56:23.804487Z",
     "start_time": "2022-06-29T09:56:23.166049Z"
    }
   },
   "outputs": [],
   "source": [
    "loaded_model = pickle.load(open('catboost_N.pickle', 'rb'))\n",
    "loaded_model_P = pickle.load(open('catboost_P.pickle', 'rb'))\n",
    "loaded_model_K = pickle.load(open('catboost_K.pickle', 'rb'))"
   ]
  },
  {
   "cell_type": "markdown",
   "metadata": {},
   "source": [
    "# Test"
   ]
  },
  {
   "cell_type": "code",
   "execution_count": 3,
   "metadata": {
    "ExecuteTime": {
     "end_time": "2022-06-29T10:00:33.246782Z",
     "start_time": "2022-06-29T10:00:32.609091Z"
    }
   },
   "outputs": [
    {
     "data": {
      "text/plain": [
       "Index(['Growing season', 'Source of rice seeds for the upcoming season',\n",
       "       'Source of rice seeds in the previous season', 'RCM Harvesting Method',\n",
       "       'RCM Growth duration if not in the list', 'RCM Variety type',\n",
       "       'Crop grown before rice', 'RCM Normal Yield t/ha in 14% MC',\n",
       "       'RCM Seed rate in kg/ha', 'organic fertilizer weight/ha', 'cluster'],\n",
       "      dtype='object')"
      ]
     },
     "execution_count": 3,
     "metadata": {},
     "output_type": "execute_result"
    }
   ],
   "source": [
    "# x_val = pd.read_csv('test_data.csv')\n",
    "X_kproto_holdout = pd.read_csv('X_test.csv')\n",
    "X_kproto_holdout.columns"
   ]
  },
  {
   "cell_type": "code",
   "execution_count": 4,
   "metadata": {
    "ExecuteTime": {
     "end_time": "2022-06-28T16:59:26.815013Z",
     "start_time": "2022-06-28T16:59:26.791076Z"
    }
   },
   "outputs": [],
   "source": [
    "# col_names = ['RCM Normal Yield t/ha in 14% MC',\n",
    "#              'Growing season', \n",
    "#              'RCM Harvesting Method',\n",
    "#              'cluster']"
   ]
  },
  {
   "cell_type": "code",
   "execution_count": 6,
   "metadata": {
    "ExecuteTime": {
     "end_time": "2022-06-29T11:48:04.061316Z",
     "start_time": "2022-06-29T10:56:57.323604Z"
    }
   },
   "outputs": [],
   "source": [
    "import shap\n",
    "from catboost import *\n",
    "explainer = shap.TreeExplainer(loaded_model)\n",
    "# shap_values = explainer.shap_values(X_kproto_holdout)\n",
    "shap_explainer = explainer(X_kproto_holdout)"
   ]
  },
  {
   "cell_type": "code",
   "execution_count": 7,
   "metadata": {
    "ExecuteTime": {
     "end_time": "2022-06-29T11:48:04.432415Z",
     "start_time": "2022-06-29T11:48:04.067212Z"
    }
   },
   "outputs": [],
   "source": [
    "with open('explainer_N.pkl', \"wb\") as f:\n",
    "    pickle.dump(explainer, f)\n",
    "with open('shap_explainer_N.pkl', \"wb\") as f:\n",
    "    pickle.dump(shap_explainer, f)"
   ]
  },
  {
   "cell_type": "code",
   "execution_count": 10,
   "metadata": {
    "ExecuteTime": {
     "end_time": "2022-06-11T08:58:17.179588Z",
     "start_time": "2022-06-11T08:58:15.320756Z"
    }
   },
   "outputs": [],
   "source": [
    "import shap\n",
    "from catboost import *\n",
    "#N\n",
    "with open('explainer_N.pkl', 'rb') as f:\n",
    "     explainer = pickle.load(f)\n",
    "with open('shap_explainer_N.pkl', 'rb') as f:\n",
    "     shap_explainer = pickle.load(f)\n",
    "        \n",
    "#P\n",
    "with open('explainer_P.pkl', 'rb') as f:\n",
    "     explainer_P = pickle.load(f)\n",
    "with open('shap_explainer_P.pkl', 'rb') as f:\n",
    "     shap_explainer_P = pickle.load(f)\n",
    "        \n",
    "#K\n",
    "with open('explainer_K.pkl', 'rb') as f:\n",
    "     explainer_K = pickle.load(f)\n",
    "with open('shap_explainer_K.pkl', 'rb') as f:\n",
    "     shap_explainer_K = pickle.load(f)"
   ]
  },
  {
   "cell_type": "markdown",
   "metadata": {},
   "source": [
    "Which variety will you grow for the upcoming season with sowing in (date)? \n",
    "\n",
    "What variety type did you grow in the last season with the same sowing time in (date)?\n",
    "\n",
    "OR\n",
    "\n",
    "*Question on Growth duration*\n",
    "\n",
    "When is rice sown in the seedbed?\n",
    "\n",
    "How many sacks of fresh, unmilled rice do you normally harvest from your (ha) hectare (location) farm lot during harvest in (date) using (type) variety? Give your total harvest.\n",
    "\n",
    "-Computed from asked `Number of sacks` and `Weight of sack (kg)`\n",
    "\n",
    "What was grown in the last three months before the upcoming rice sown in (date)?\n",
    "\n",
    "How was rice harvested in the immediate previous season?\n",
    "\n",
    "In this upcoming season, will you apply organic fertilizer? (If yes) Give amount.\n",
    "\n",
    "(Depending on cluster)\n",
    "What is th approximate seedling age at transplanting?\n",
    "\n",
    "OR\n",
    "\n",
    "*Question on seed rate*\n",
    "\n",
    "*Question on seed source*"
   ]
  },
  {
   "cell_type": "markdown",
   "metadata": {},
   "source": [
    "# GUI"
   ]
  },
  {
   "cell_type": "code",
   "execution_count": 11,
   "metadata": {
    "ExecuteTime": {
     "end_time": "2022-06-11T08:59:57.407524Z",
     "start_time": "2022-06-11T08:59:57.369625Z"
    }
   },
   "outputs": [],
   "source": [
    "# how to create simple GUI registration form.\n",
    "# importing tkinter module for GUI application\n",
    "from tkinter import *\n",
    "import tkinter as tk\n",
    "\n",
    "def run_ind_tool():\n",
    "    global cluster, season, yield_1, yield_2, method\n",
    "\n",
    "    # Creating object 'root' of Tk()\n",
    "    root = Tk()\n",
    "\n",
    "    # Providing Geometry to the form\n",
    "    root.geometry(\"400x500\")\n",
    "    \n",
    "    # Providing title to the form\n",
    "    root.title('RCM Fertilizer Recommendation')\n",
    "\n",
    "    canvas = tk.Canvas(root, borderwidth=0)\n",
    "    frame = tk.Frame(canvas)\n",
    "    vsb = tk.Scrollbar(root, orient=\"vertical\", command=canvas.yview)\n",
    "    canvas.configure(yscrollcommand=vsb.set)\n",
    "\n",
    "    vsb.pack(side=\"right\", fill=\"y\")\n",
    "    canvas.pack(side=\"left\", fill=\"both\", expand=True)\n",
    "    canvas.create_window((4,4), window=frame, anchor=\"nw\")\n",
    "\n",
    "    frame.bind(\"<Configure>\",\n",
    "    lambda e: canvas.configure(scrollregion=canvas.bbox(\"all\")))\n",
    "\n",
    "    # this creates 'Label' widget for Registration Form and uses place() method.\n",
    "    label_0 = Label(frame, text=\"Farmer Information\",\n",
    "                    width=21, font=(\"bold\", 20)).grid()\n",
    "    #--------------- Variety Type -----------------------#\n",
    "    \n",
    "    var_type = IntVar()\n",
    "\n",
    "    # this creates 'Label' widget for Gender and uses place() method.\n",
    "    label = Label(frame, text=\"\",\n",
    "                    width=40, font=(\"bold\", 10)).grid()\n",
    "    label = Label(frame, text=\"(Cluster membership)\",\n",
    "                    width=40, font=(\"bold\", 10)).grid()\n",
    "    clusters = [0,1,2,3,4,5,6]\n",
    "    \n",
    "    cluster = IntVar()\n",
    "    droplist = OptionMenu(frame, cluster, *clusters)\n",
    "    droplist.config(width=10)\n",
    "    droplist.grid()#row=6, column=1)\n",
    "    cluster.set(3)\n",
    "\n",
    "    #--------------- Growing Season -----------------------#\n",
    "\n",
    "    # the variable 'var' mentioned here holds Integer Value, by default 0\n",
    "    season = StringVar()\n",
    "\n",
    "    # this creates 'Label' widget for Gender and uses place() method.\n",
    "    label_3 = Label(frame, text=\"\",\n",
    "                    width=40, font=(\"bold\", 10)).grid()\n",
    "    label_3 = Label(frame, text=\"When is rice sown in the seedbed?\",\n",
    "                    width=40, font=(\"bold\", 10)).grid()\n",
    "    \n",
    "    # this creates 'Radio button' widget and uses place() method\n",
    "    Radiobutton(frame, text=\"Wet season\", padx=5, variable=season,\n",
    "                value=\"Wet season\").grid()#row=8,column=1)\n",
    "    Radiobutton(frame, text=\"Dry season\", padx=20, variable=season,\n",
    "                value=\"Dry season\").grid()#row=8,column=2)\n",
    "    season.set('Wet season')\n",
    "\n",
    "    #--------------- Normal Yield -----------------------#\n",
    "\n",
    "    # this creates 'Label' widget for Gender and uses place() method.\n",
    "    label_4 = Label(frame, text=\"\",\n",
    "                    width=40, font=(\"bold\", 10)).grid()\n",
    "    label_4 = Label(frame, text=\"How many sacks of fresh, unmilled rice do you\",\n",
    "                    width=40, font=(\"bold\", 10)).grid()\n",
    "    label_4 = Label(frame, text=\"normally harvest from your farm lot during\"\n",
    "                    , width=40, font=(\"bold\", 10)).grid()\n",
    "    label_4 = Label(frame, text=\"harvest in (date) using (type) variety?\",\n",
    "                    width=40, font=(\"bold\", 10)).grid()\n",
    "    label_4 = Label(frame, text=\" Give your total harvest.\"\n",
    "                    , width=40, font=(\"bold\", 10)).grid()\n",
    "    \n",
    "    # this will accept the input string text from the user.    \n",
    "    label_4 = Label(frame, text=\"Number of sacks\"\n",
    "                    , width=20, font=(\"bold\", 10)).grid()\n",
    "    yield_1 = StringVar()\n",
    "    entry_1 = Entry(frame, textvariable=yield_1).grid()\n",
    "    \n",
    "    label_4 = Label(frame, text=\"Weight of sack (kg)\"\n",
    "                    , width=20, font=(\"bold\", 10)).grid()\n",
    "    yield_2 = StringVar()\n",
    "    entry_2 = Entry(frame, textvariable=yield_2).grid()\n",
    "\n",
    "    #--------------- Harvesting -----------------------#\n",
    "\n",
    "    # this creates 'Label' widget for country and uses place() method.\n",
    "    label_6 = Label(frame, text=\"\",\n",
    "                    width=40, font=(\"bold\", 10)).grid()\n",
    "    label_6 = Label(frame, text=\"How was rice harvested in the immediate\",\n",
    "                    width=40, font=(\"bold\", 10)).grid()\n",
    "    label_6 = Label(frame, text=\"previous season?\",\n",
    "                    width=40, font=(\"bold\", 10)).grid()\n",
    "    \n",
    "    # this creates list of countries available in the dropdownlist.\n",
    "    methods = ['Combined', 'Manual', 'Reaper']\n",
    "\n",
    "    # the variable 'c' mentioned here holds String Value, by default \"\"\n",
    "    method = StringVar()\n",
    "    droplist = OptionMenu(frame, method, *methods)\n",
    "    droplist.config(width=15)\n",
    "    method.set('Combined')\n",
    "    droplist.grid()\n",
    "\n",
    "    # this creates button for submitting the details provides by the user\n",
    "    label_10 = Label(frame, text=\"\",\n",
    "                    width=40, font=(\"bold\", 10)).grid()\n",
    "    Button(frame, text='Assess', width=20, bg=\"black\", command=assess,\n",
    "           fg='white').grid()\n",
    "    \n",
    "    prediction_status = Label(frame, text='Click Assess', fg='red', font=(\"bold\", 20))\n",
    "    prediction_status.grid()\n",
    "\n",
    "    # this will run the mainloop.\n",
    "    root.eval('tk::PlaceWindow . center') \n",
    "    root.mainloop()"
   ]
  },
  {
   "cell_type": "code",
   "execution_count": 12,
   "metadata": {
    "ExecuteTime": {
     "end_time": "2022-06-11T09:01:27.790518Z",
     "start_time": "2022-06-11T09:01:27.763590Z"
    }
   },
   "outputs": [],
   "source": [
    "def assess():\n",
    "    \n",
    "    \n",
    "    # the main Tkinter window\n",
    "    window = Tk()\n",
    "    window.geometry(\"500x500\")\n",
    "\n",
    "    canvas = tk.Canvas(window, borderwidth=0)\n",
    "    frame = tk.Frame(canvas)\n",
    "    vsb = tk.Scrollbar(window, orient=\"vertical\", command=canvas.yview)\n",
    "    canvas.configure(yscrollcommand=vsb.set)\n",
    "\n",
    "    vsb.pack(side=\"right\", fill=\"y\")\n",
    "    canvas.pack(side=\"left\", fill=\"both\", expand=True)\n",
    "    canvas.create_window((4,4), window=frame, anchor=\"nw\")\n",
    "\n",
    "    frame.bind(\"<Configure>\",\n",
    "    lambda e: canvas.configure(scrollregion=canvas.bbox(\"all\")))\n",
    "\n",
    "    label_0 = Label(frame, text=\"Fertilizer Recommendation\",\n",
    "                    width=21, font=(\"bold\", 20)).grid()#\n",
    "\n",
    "    # Convert Income string to int\n",
    "\n",
    "    test = [float(yield_1.get())*float(yield_2.get()),\n",
    "            season.get(),\n",
    "            method.get(),\n",
    "            cluster.get()]  \n",
    "    N_range = 4.62\n",
    "    P_range = 1.39\n",
    "    K_range = 2.67\n",
    "    \n",
    "    \n",
    "#     Update Status\n",
    "    label_1 = Label(frame, text=\"\",\n",
    "                    width=40, font=15).grid()\n",
    "    prediction = loaded_model.predict(test)\n",
    "    out_text = f\"Nitrogen (N): {prediction-N_range:.2f} - {prediction+N_range:.2f} kg/ha\" \n",
    "    label_1 = Label(frame, text=out_text,\n",
    "                    width=40, font=15).grid()\n",
    "    Button(frame, text='Nitrogen Shap', width=20, bg=\"black\",\n",
    "           command=plotN, fg='white').grid()\n",
    "    \n",
    "    \n",
    "    label_2 = Label(frame, text=\"\",\n",
    "                    width=40, font=15).grid()\n",
    "    prediction_P = loaded_model_P.predict(test)\n",
    "    out_text = f\"Phosphorus (P): {prediction_P-P_range:.2f} - {prediction_P+P_range:.2f} kg/ha\" \n",
    "    label_2 = Label(frame, text=out_text,\n",
    "                    width=40, font=15).grid()\n",
    "    Button(frame, text='Phosphorus Shap', width=20, bg=\"black\",\n",
    "           command=plotP, fg='white').grid()\n",
    "\n",
    "    \n",
    "    label_3 = Label(frame, text=\"\",\n",
    "                    width=40, font=15).grid()    \n",
    "    prediction_K= loaded_model_K.predict(test)\n",
    "    out_text = f\"Potassium (K): {prediction_K-K_range:.2f} - {prediction_K+K_range:.2f} kg/ha\" \n",
    "    label_3 = Label(frame, text=out_text,\n",
    "                    width=40, font=15).grid()#\n",
    "#     label_3 = Label(frame, text=[test[0], test[1]],\n",
    "#                     width=60, font=8).grid()#\n",
    "#     label_3 = Label(frame, text=[test[2], test[3]],\n",
    "#                     width=60, font=8).grid()#\n",
    "#     label_3 = Label(frame, text=[test[4], test[5]],\n",
    "#                     width=60, font=8).grid()#\n",
    "#     label_3 = Label(frame, text=[test[6], test[7]],\n",
    "#                     width=60, font=8).grid()#\n",
    "#     label_3 = Label(frame, text=[test[8], test[9]],\n",
    "#                     width=60, font=8).grid()#\n",
    "    Button(frame, text='Potassium Shap', width=20, bg=\"black\",\n",
    "           command=plotK, fg='white').grid()\n",
    "    \n",
    "    # run the gui\n",
    "    window.mainloop()\n"
   ]
  },
  {
   "cell_type": "code",
   "execution_count": 13,
   "metadata": {
    "ExecuteTime": {
     "end_time": "2022-06-11T09:02:31.175455Z",
     "start_time": "2022-06-11T09:02:31.144600Z"
    },
    "code_folding": []
   },
   "outputs": [],
   "source": [
    "def plotN():#shap_explainer, explainer, name):\n",
    "    window = Tk()\n",
    "    window.geometry(\"1000x300\")\n",
    "    \n",
    "    col_names = ['RCM Normal Yield t/ha in 14% MC',\n",
    "             'Growing season', \n",
    "             'RCM Harvesting Method',\n",
    "             'cluster']\n",
    "    \n",
    "    test = [float(yield_1.get())*float(yield_2.get()),\n",
    "            season.get(),\n",
    "            method.get(),\n",
    "            cluster.get()] \n",
    "    \n",
    "    X_ho = pd.DataFrame(test).T\n",
    "    X_ho.columns = col_names\n",
    "    \n",
    "    fig = shap.force_plot(base_value=shap_explainer.base_values[1],\n",
    "                               shap_values= explainer.shap_values(X_ho),\n",
    "                               feature_names=col_names,\n",
    "                               out_names='Nitrogen',\n",
    "                               matplotlib=True,\n",
    "                               figsize=(10, 4),\n",
    "                               show=False\n",
    "                           )\n",
    "#     fig = shap.plots.bar(explainer)#.shap_values(X_ho))\n",
    "#     fig.tight_layout()\n",
    "\n",
    "    # creating the Tkinter canvas\n",
    "    # containing the Matplotlib figure\n",
    "    canvas = FigureCanvasTkAgg(fig,\n",
    "                               master=window)\n",
    "    canvas.draw()\n",
    "\n",
    "    # placing the canvas on the Tkinter window\n",
    "    canvas.get_tk_widget().place(x=0,y=0)\n",
    "\n",
    "    # creating the Matplotlib toolbar\n",
    "    toolbar = NavigationToolbar2Tk(canvas,\n",
    "                                   window)\n",
    "    toolbar.update()\n",
    "\n",
    "    # placing the toolbar on the Tkinter window\n",
    "    canvas.get_tk_widget().place(x=0, y=0)\n",
    "    window.mainloop()\n",
    "\n",
    "def plotP():#shap_explainer, explainer, name):\n",
    "    window = Tk()\n",
    "    window.geometry(\"1000x300\")\n",
    "    \n",
    "    col_names = ['RCM Normal Yield t/ha in 14% MC',\n",
    "             'Growing season', \n",
    "             'RCM Harvesting Method',\n",
    "             'cluster']\n",
    "    \n",
    "    test = [float(yield_1.get())*float(yield_2.get()),\n",
    "            season.get(),\n",
    "            method.get(),\n",
    "            cluster.get()] \n",
    "    \n",
    "    X_ho = pd.DataFrame(test).T\n",
    "    col_names = ['Growing season', 'Source of rice seeds for the upcoming season',\n",
    "       'Source of rice seeds in the previous season', 'RCM Harvesting Method',\n",
    "       'RCM Growth duration if not in the list', 'RCM Variety type',\n",
    "       'Crop grown before rice', 'RCM Seed rate in kg/ha',\n",
    "       'organic fertilizer weight/ha', 'RCM Normal Yield t/ha in 14% MC',\n",
    "       'cluster']\n",
    "    X_ho.columns = col_names\n",
    "    \n",
    "    fig = shap.force_plot(base_value=shap_explainer_P.base_values[1],\n",
    "                               shap_values= explainer_P.shap_values(X_ho),\n",
    "                               feature_names=col_names,\n",
    "                               out_names='Nitrogen',\n",
    "                               matplotlib=True,\n",
    "                               figsize=(10, 4),\n",
    "                               show=False\n",
    "                           )\n",
    "#     fig.tight_layout()\n",
    "\n",
    "    # creating the Tkinter canvas\n",
    "    # containing the Matplotlib figure\n",
    "    canvas = FigureCanvasTkAgg(fig,\n",
    "                               master=window)\n",
    "    canvas.draw()\n",
    "\n",
    "    # placing the canvas on the Tkinter window\n",
    "    canvas.get_tk_widget().place(x=0,y=0)\n",
    "\n",
    "    # creating the Matplotlib toolbar\n",
    "    toolbar = NavigationToolbar2Tk(canvas,\n",
    "                                   window)\n",
    "    toolbar.update()\n",
    "\n",
    "    # placing the toolbar on the Tkinter window\n",
    "    canvas.get_tk_widget().place(x=0, y=0)\n",
    "    window.mainloop()\n",
    "\n",
    "def plotK():#shap_explainer, explainer, name):\n",
    "    window = Tk()\n",
    "    window.geometry(\"1000x300\")\n",
    "    \n",
    "    col_names = ['RCM Normal Yield t/ha in 14% MC',\n",
    "             'Growing season', \n",
    "             'RCM Harvesting Method',\n",
    "             'cluster']\n",
    "    \n",
    "    test = [float(yield_1.get())*float(yield_2.get()),\n",
    "            season.get(),\n",
    "            method.get(),\n",
    "            cluster.get()] \n",
    "    \n",
    "    X_ho = pd.DataFrame(test).T\n",
    "    col_names = ['Growing season', 'Source of rice seeds for the upcoming season',\n",
    "       'Source of rice seeds in the previous season', 'RCM Harvesting Method',\n",
    "       'RCM Growth duration if not in the list', 'RCM Variety type',\n",
    "       'Crop grown before rice', 'RCM Seed rate in kg/ha',\n",
    "       'organic fertilizer weight/ha', 'RCM Normal Yield t/ha in 14% MC',\n",
    "       'cluster']\n",
    "    X_ho.columns = col_names\n",
    "    \n",
    "    fig = shap.force_plot(base_value=shap_explainer_K.base_values[1],\n",
    "                               shap_values= explainer_K.shap_values(X_ho),\n",
    "                               feature_names=col_names,\n",
    "                               out_names='Nitrogen',\n",
    "                               matplotlib=True,\n",
    "                               figsize=(10, 4),\n",
    "                               show=False\n",
    "                           )\n",
    "#     fig.tight_layout()\n",
    "\n",
    "    # creating the Tkinter canvas\n",
    "    # containing the Matplotlib figure\n",
    "    canvas = FigureCanvasTkAgg(fig,\n",
    "                               master=window)\n",
    "    canvas.draw()\n",
    "\n",
    "    # placing the canvas on the Tkinter window\n",
    "    canvas.get_tk_widget().place(x=0,y=0)\n",
    "\n",
    "    # creating the Matplotlib toolbar\n",
    "    toolbar = NavigationToolbar2Tk(canvas,\n",
    "                                   window)\n",
    "    toolbar.update()\n",
    "\n",
    "    # placing the toolbar on the Tkinter window\n",
    "    canvas.get_tk_widget().place(x=0, y=0)\n",
    "    window.mainloop()"
   ]
  },
  {
   "cell_type": "code",
   "execution_count": 14,
   "metadata": {
    "ExecuteTime": {
     "end_time": "2022-06-11T09:03:02.575080Z",
     "start_time": "2022-06-11T09:02:31.389489Z"
    }
   },
   "outputs": [],
   "source": [
    "run_ind_tool()"
   ]
  },
  {
   "cell_type": "code",
   "execution_count": null,
   "metadata": {},
   "outputs": [],
   "source": []
  }
 ],
 "metadata": {
  "kernelspec": {
   "display_name": "Python 3",
   "language": "python",
   "name": "python3"
  },
  "language_info": {
   "codemirror_mode": {
    "name": "ipython",
    "version": 3
   },
   "file_extension": ".py",
   "mimetype": "text/x-python",
   "name": "python",
   "nbconvert_exporter": "python",
   "pygments_lexer": "ipython3",
   "version": "3.7.6"
  },
  "toc": {
   "base_numbering": 1,
   "nav_menu": {},
   "number_sections": true,
   "sideBar": true,
   "skip_h1_title": false,
   "title_cell": "Table of Contents",
   "title_sidebar": "Contents",
   "toc_cell": false,
   "toc_position": {},
   "toc_section_display": true,
   "toc_window_display": false
  }
 },
 "nbformat": 4,
 "nbformat_minor": 5
}
